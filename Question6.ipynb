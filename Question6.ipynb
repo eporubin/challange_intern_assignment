{
 "cells": [
  {
   "cell_type": "code",
   "execution_count": 1,
   "metadata": {
    "collapsed": true,
    "pycharm": {
     "name": "#%%\n"
    }
   },
   "outputs": [],
   "source": [
    "import re\n",
    "import pandas as pd\n",
    "import seaborn as sns\n",
    "import matplotlib.pyplot as plt\n",
    "\n",
    "data_fr = pd.read_csv(\"the_office_lines_scripts.csv\")"
   ]
  },
  {
   "cell_type": "markdown",
   "source": [
    "Question 6: Number of times \"That's what she said\" joke comes up\n",
    "• Include five examples of the joke"
   ],
   "metadata": {
    "collapsed": false,
    "pycharm": {
     "name": "#%% md\n"
    }
   }
  },
  {
   "cell_type": "code",
   "execution_count": 21,
   "outputs": [
    {
     "name": "stdout",
     "output_type": "stream",
     "text": [
      "There are 37 times \"That`s what she said\" comes up\n",
      "Here are the first 5 examples of this joke:\n",
      "        id  season  episode  scene  \\\n",
      "2544  2545       2        2     24   \n",
      "2590  2591       2        2     34   \n",
      "2593  2594       2        2     34   \n",
      "5324  5325       2       10      2   \n",
      "6321  6322       2       12     33   \n",
      "\n",
      "                                              line_text  speaker  deleted  \n",
      "2544                         That's what she said. Pam?  Michael    False  \n",
      "2590          Does that include 'That's What She Said'?      Jim    False  \n",
      "2593                              THAT'S WHAT SHE SAID!  Michael    False  \n",
      "5324  A, that's what she said, and B, I wanted it to...  Michael    False  \n",
      "6321                              That's what she said.   Dwight    False  \n"
     ]
    }
   ],
   "source": [
    "#looked through all data frame on the line_text column and selected only rows which contains the joke in the column\n",
    "joke_number = data_fr.loc[data_fr['line_text'].str.contains(\"That's what she said\", case=False)]\n",
    "print('There are', len(joke_number['line_text']), 'times \"That`s what she said\" comes up')\n",
    "print('Here are the first 5 examples of this joke:')\n",
    "print(joke_number.head(5))"
   ],
   "metadata": {
    "collapsed": false,
    "pycharm": {
     "name": "#%%\n"
    }
   }
  },
  {
   "cell_type": "code",
   "execution_count": null,
   "outputs": [],
   "source": [],
   "metadata": {
    "collapsed": false,
    "pycharm": {
     "name": "#%%\n"
    }
   }
  }
 ],
 "metadata": {
  "kernelspec": {
   "display_name": "Python 3",
   "language": "python",
   "name": "python3"
  },
  "language_info": {
   "codemirror_mode": {
    "name": "ipython",
    "version": 2
   },
   "file_extension": ".py",
   "mimetype": "text/x-python",
   "name": "python",
   "nbconvert_exporter": "python",
   "pygments_lexer": "ipython2",
   "version": "2.7.6"
  }
 },
 "nbformat": 4,
 "nbformat_minor": 0
}