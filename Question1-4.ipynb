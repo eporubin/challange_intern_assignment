{
 "cells": [
  {
   "cell_type": "code",
   "execution_count": 5,
   "metadata": {
    "collapsed": true,
    "pycharm": {
     "name": "#%%\n"
    }
   },
   "outputs": [
    {
     "name": "stdout",
     "output_type": "stream",
     "text": [
      "['Michael' 'Jim' 'Pam' 'Dwight' 'Jan' 'Michel' 'Todd Packer' 'Phyllis'\n",
      " 'Stanley' 'Oscar' 'Angela' 'Kevin' 'Ryan' 'Man' 'Roy'\n",
      " 'Documentary Crew Member' 'Mr. Brown' 'Toby' 'Kelly' 'Meredith'\n",
      " 'Travel Agent' 'Man on Phone' 'Everybody' 'Lonny' 'Darryl' 'Teammates'\n",
      " 'Michael and Dwight' 'Warehouse worker' 'Madge' 'Worker' 'Packer'\n",
      " 'Warehouse Worker' 'Katy' 'Guy at bar' 'Other Guy at Bar' 'Guy At Bar'\n",
      " 'Pam and Jim' 'Employee' \"Chili's Employee\" 'Waitress' 'Manager'\n",
      " \"Kevin's computer\" 'Warehouse Guy' 'Warehouse guy' 'Warehouse guys'\n",
      " 'Video' 'Man in Video' 'Actor' 'Redheaded Actress' \"Mr. O'Malley\"\n",
      " 'Albiny' \"Pam's Mom\" 'Carol' 'Bill' 'Everyone' 'Crowd' 'song' 'Song'\n",
      " 'Dwight and Michael' 'Sherri' 'Creed' 'Devon' 'Children' 'Kid'\n",
      " 'Vance Refrigeration Worker #1' 'Vance Refrigeration Worker #2'\n",
      " 'Hank the Security Guard' 'Ira' \"Ryan's Voicemail\" 'Master' 'Alyssa'\n",
      " 'Christian' 'Hostess' 'Michael and Christian' 'Sadiq (IT guy)' 'Mark'\n",
      " 'Improv Teacher' 'Mary-Beth' 'Girl acting Pregnant' 'Actress'\n",
      " 'Michael and Jim' 'Kevin & Oscar' 'All' 'Liquor Store Clerk' 'JIm'\n",
      " 'Bob Vance' 'Phyllis, Meredith, Michael, Kevin' 'Captain Jack' 'Brenda'\n",
      " 'Darryl and Katy' 'Jim and Pam' 'Billy Merchant' 'Doctor' 'Lab Tech'\n",
      " 'Dana' \"Hooter's Girls\" 'Phylis' 'Gil' 'Pam and others' 'Ed' 'Todd'\n",
      " \"Jim's voicemail\" 'Women' 'Guy' 'Men' 'Group chant' 'All the Men'\n",
      " 'Dwight and Roy' 'Delivery man' 'Craig' 'Josh' 'David' 'Dan'\n",
      " 'Receptionist' 'Overhead' 'Speaker' 'Jim and Dwight' 'Melissa' 'Sasha'\n",
      " 'Abby' 'Jake' 'The Kids' 'Kids' 'Miss Trudy' 'Edward R. Meow' 'Chet'\n",
      " 'Young Michael' 'Delivery Woman' 'Delivery Boy' 'Office Staff'\n",
      " 'Store Employee' 'Pam/Jim' 'Linda' 'Hank' 'Sheriff' 'I.D. Photographer'\n",
      " 'Photographer' 'Anglea' 'Female worker' \"Billy's Girlfriend\" 'Billy'\n",
      " 'Dealer' 'Bob' \"Meredith's Vet\" 'Andy' 'Karen' 'Jerome Bettis' 'Ted'\n",
      " 'Waiter' 'Jim, Josh, and Dwight' 'Evan' 'Alan' 'Ryan and others' 'Hannah'\n",
      " 'Announcer' 'Pretzel guy' 'Cousin Mose' 'Tony' 'Server' 'Girls'\n",
      " \"Kelly's Mom\" \"Kelly's Father\" 'Young Man' 'Andy and Jim' 'Mrs. Kapoor'\n",
      " 'Mr. Kapoor' 'M ichael' 'Dwight:' 'Martin' 'Male voice'\n",
      " 'Michael & Dwight' 'Andy & Michael' 'Chef' 'Woman at bar' 'Cindy'\n",
      " 'Second Cindy' 'Other waitress' 'Andy and Michael' 'Both' 'Someone'\n",
      " 'Harvey' 'Buyer' 'Kenny' 'Julius' 'Phone' 'Staples Guy' 'MIchael' 'Lady'\n",
      " 'Paris' 'Marcy' 'Ben Franklin' 'Elizabeth' 'Priest' 'Uncle Al' 'Randy'\n",
      " 'Unknown' 'College Student' 'Business Student #1' 'Business Student #2'\n",
      " 'Business Student #3' 'Woman' 'Artist' 'Student 1' 'Student 2'\n",
      " 'Student 3' 'Rachel' 'Dan Gore' 'Bartender' 'Child' 'Hunter' 'Darry'\n",
      " 'Micheal' 'Larry' 'Chad Lite' 'Jamie' 'Barbara' 'School Official'\n",
      " 'Barbara Allen' 'Spanish Teacher' 'Denise' 'Group' 'IT Tech Guy' 'Nurse'\n",
      " 'Intern' 'Pediatrician' 'Robert Dunder' 'Amy' 'GPS' 'Larry Myers'\n",
      " 'Ex-client' 'Voice of Thomas Dean' 'sAndy' 'DunMiff/sys' 'DwightKSchrute'\n",
      " 'Tech Guy' 'Angels' 'Pizza guy' 'Voice #1 on phone' 'Voice #2 on phone'\n",
      " 'Micahel' 'Michae' 'Nick' 'Mose' 'Co-Worker 1' 'Stanely' 'Micael'\n",
      " 'Vikram' 'Co-Worker 2' 'Co-Worker 3' 'Mr. Figaro' 'Oscar and Stanley'\n",
      " 'Ad guy 1' 'Ad guy 2' 'David Wallace' 'Andy, Creed, Kevin, Kelly, Darryl'\n",
      " 'Andy, Creed, Kevin, Kelly' \"Michael's Ad\" 'Rolando' 'Ben'\n",
      " 'Security guard' 'Lester' 'Diane Kelly' 'Diane' 'Deposition Reporter'\n",
      " 'Council' \"Hunter's CD\" 'Officer 1' 'Officer 2' 'Officer' 'Neighbor'\n",
      " \"Wendy's phone operator\" 'Margaret' 'Coffee shop worker' 'Jan [on phone]'\n",
      " 'W.B. Jones' 'Paul Faust' 'Bill Cress' 'Paul' 'Michael/Dwight' 'Troy'\n",
      " 'Girl in Club' 'Tall Girl #1' 'All Girls' 'Tall Girl #2'\n",
      " 'Girl in 2nd club' 'Cleaning lady' 'Michael and Darryl' 'Phil Maguire'\n",
      " 'Phil' 'Justin' 'Angela and Dwight' 'Maguire' 'Woman on mic'\n",
      " 'Graphics guy' 'Brad' 'Air Force recruiter' 'Holly'\n",
      " 'Woman over speakerphone' 'Vance Refrigeration guy' 'Holy' 'Co-workers'\n",
      " 'Ronnie' 'Professor' 'Friend' 'JIM9334 [screen name]'\n",
      " 'Receptionitis15 [screen name]' 'JIM9334' 'Receptionitis15'\n",
      " 'Michael & Holly' 'Dight' 'Kendall' 'Michael [on phone]' 'Pam [on phone]'\n",
      " 'Man on phone' 'Hank [the security guard]' 'Guy in audience'\n",
      " 'Michael and Holly' 'Michael, Holly, and Darryl' 'Tom' 'Pete'\n",
      " 'Holly & Darryl' 'Holly & Michael' 'Mother' 'Alex' 'Customer'\n",
      " 'Kevin & Andy' 'Stanley & Phyllis' 'Stewardess' 'Beth' 'Concierge'\n",
      " 'Marie' 'Guy at table' 'Concierge Marie' 'Client' 'Dacvid Walalce'\n",
      " 'David Wallcve' 'Dacvid Wallace' 'Leo' 'Vance Refrigeration Guy'\n",
      " 'Police Officer 1' 'Police Officer 2' 'Guy buying doll' 'Rehab Nurse'\n",
      " 'Everyone watching' 'Entire Prince family' 'Prince Grandfather'\n",
      " 'Entire office' 'Prince' 'Prince Granddaughter' 'Prince Grandmother'\n",
      " 'Prince Son' 'Phyllis and Creed' 'Lawyer' 'CPR trainer' 'CPR Trainer'\n",
      " 'Rose' 'Jessica Alba' 'Lily' 'Sam' 'Warehouse Michael' 'Julia' 'A.J.'\n",
      " 'Phone Salesman' 'Jim, Pam, Michael and Dwight' 'Blood Drive Worker'\n",
      " 'Blood Girl' 'Lynn' 'Blonde' 'Eric' 'Girl' 'Charles' 'Stephanie'\n",
      " 'Employees' 'Isaac' 'Angela and Kelly' 'Supervisor' 'Michal' 'Nana'\n",
      " 'Chares' 'Old Woman' 'Erin' 'Dwight and Erin' 'Dwight and Andy'\n",
      " 'Michael, Pam & Ryan' 'Secretary' 'Automated phone voice' 'Mr. Schofield'\n",
      " 'Financial Guy' 'Ty' 'Jessica' 'Vance Refrigeration Guy 1'\n",
      " 'Vance Refrigeration Guy 2' 'VRG 1' 'VRG 2' 'Rolph' 'AJ'\n",
      " 'Man from Buffalo' 'Woman from Buffalo' 'Dwight & Andy' 'Female Intern'\n",
      " 'Female intern' 'Maurie' 'Dwight, Jim & Pam' 'Jim & Pam' 'Megan'\n",
      " 'Gwenneth' 'Front Desk Clerk' 'Mr. Halpert' 'Mema' 'Mr. Beesly'\n",
      " 'Little Girl' 'Penny' 'Isabel' 'Hotel Employee' 'Hotel Manager'\n",
      " \"Pam's mom\" 'Tom Halpert' 'Pete Halpert' 'Tom and Pete' \"Pam's dad\"\n",
      " 'Grotti' 'Andy and Dwight' 'Credit card rep' 'Rep' 'Various'\n",
      " 'Keena Gifford' 'Helene' \"David Wallace's Secretary\" 'Voice on CD player'\n",
      " 'Limo Driver' 'Laurie' 'Registrar' 'Security' 'Woman in line'\n",
      " 'Man in line' 'Shareholder' 'Female Shareholder' 'Second Shareholder'\n",
      " 'Third Shareholder' 'Fourth Shareholder' \"O'Keefe\" 'Mikela' 'Students'\n",
      " 'Teacher' 'Lefevre' 'Zion' 'Deliveryman' 'Michael and Erin' 'Daryl'\n",
      " 'Office' 'Kelly and Erin' 'Matt' 'Computron' 'Fake Stanley' 'Gabe'\n",
      " 'Andy & Erin' 'Christian Slater' 'Jo Bennett' 'Jo' 'Jerry'\n",
      " 'Teddy Wallace' 'Mrs. Wallace' 'Teddy' 'Dwight, Jim and Michael'\n",
      " 'Policeman' 'Hospital employee' \"(Pam's mom) Heleen\" 'Kathy' 'Dale'\n",
      " 'Clark' 'Isabelle' 'D' 'Warehouse guy 1' 'Warehouse guy 2' 'Reid'\n",
      " 'Night cleaning crew' 'Meredith, Creed, Oscar and Matt' 'Miichael'\n",
      " 'Julie' 'Hide' 'Bar Manager' 'Bouncer' 'Girl at table' 'Cookie Monster'\n",
      " 'Dwight.' \"Hayworth's waiter\" \"Oscar's voice from the computer\" 'Donna'\n",
      " 'Michael and Donna' 'Mihael' 'Old lady' 'Glen' 'Gym Instructor'\n",
      " 'Gym instructor' 'Dwight and Angela' 'Shane' 'Reporter' 'Realtor' 'Luke'\n",
      " 'Window treatment guy' 'Angel' 'Salesman' 'Usher' 'Shelby' 'Sweeney Todd'\n",
      " 'Mexican Man' 'Son' 'Nate' 'Employees except Dwight' 'Astrid' 'Carroll'\n",
      " 'Carrol' 'Danny' 'Steve' 'Darryl and Andy' 'Church congregation' 'Pastor'\n",
      " 'Female church member' 'Male church member'\n",
      " 'Female church member [to Michael]' 'Doug [church member]' 'Doug'\n",
      " 'Mee-Maw' 'MeeMaw' 'Carla' \"Jim's Dad\" 'Bus driver' 'Michael and Andy'\n",
      " 'Another guy' 'Radio' 'Cece' 'TV' 'Meridith' 'Robotic Voice'\n",
      " 'Ryan and Michael' 'Phyliss' 'Dwight & Nate' 'Passer-by' 'Bass Player'\n",
      " 'Justine' 'Jada' 'Robert' 'Darrly' 'Member' 'Video Michael'\n",
      " 'Bookstore employee' 'DJ' 'David Brent' 'Older guy'\n",
      " 'Phyllis, Stanley, Dwight' 'Younger Guy' 'Older Woman' 'Professor Powell'\n",
      " 'Ryan and Kelly' 'Helen' 'Attendant' 'Hot Dog Guy'\n",
      " 'Cell Phone Sales Person' 'Boom Box' 'Andy and Erin' \"Holly's Mom\"\n",
      " \"Holly's Dad\" 'Deangelo' 'Deangelo/Michael' 'Denagelo' \"Darryl's sister\"\n",
      " 'DeAngelo' 'Audience' 'Together' 'Erin and Kelly' 'abe' 'Rory' 'DeAgnelo'\n",
      " 'Jordan' 'Dwight [on phone]' 'Mose [on phone]' 'All but Oscar'\n",
      " 'Darryl and Angela' 'Fred Henry' 'Fred' 'Warren Buffett' 'Warren'\n",
      " 'Robert California' 'Merv Bronte' 'Merv' 'Nellie Bertram' 'Nellie'\n",
      " 'Finger Lakes Guy' 'Pam as fourth-biggest client'\n",
      " 'Pam as ninth-biggest client' 'Darryl & Oscar' 'Tattoo Artist'\n",
      " 'Female Applicant' 'Male Applicant 1' 'Male Applicant 2' 'Gideon' 'Bruce'\n",
      " 'Dwight, Erin, Jim & Kevin' 'Walter' 'Ellen' 'Walter Jr' 'Andy & Walter'\n",
      " 'Walter & Walter Jr' \"Erin's Cell Phone\" 'Bert' 'Gabe/Kelly/Toby'\n",
      " 'Andy/Pam' 'Andy/Stanley' 'Val' 'Warehouse Crew' 'Cathy' 'Offscreen'\n",
      " 'Curtis' 'Drummer' 'Pam and Kelly' 'Old Man' 'Andy and Darryl'\n",
      " 'Darryl and Kevin' 'Park Ranger' 'Chelsea' 'Archivist' 'Narrator'\n",
      " 'Soldier' 'Amanda' 'Susan' 'Andy/Oscar' \"Bob's Secretary\"\n",
      " 'Mrs. California' 'Host' 'Queerenstein Bears' \"Oscar's friend\" 'Stu'\n",
      " 'Stonewall Host' 'Meredith & Kelly' 'Einsteins' 'Senator Lipton'\n",
      " 'Ernesto' 'Officer Foley' 'Andy, Darryl & Officer Foley' 'Saleswoman'\n",
      " 'Emergency Operator' 'Paramedic' 'Donna Muraski' 'Wally Amos'\n",
      " 'Angela/Pam' 'Brandon' 'Blogger' 'Blogger 2' 'Lady Blogger' 'Patty'\n",
      " 'Old Lady' 'Others' 'Elderly Woman' 'Irene' 'Alonzo' 'Glenn'\n",
      " 'Erin and Irene' 'Kevin & Meredith' 'Lauren' 'Party guests' 'Magician'\n",
      " 'Ravi' 'Robert & Creed' 'Wrangler' 'Senator' 'Vet' 'Harry' 'Mr. Ramish'\n",
      " 'Calvin' 'Off-camera' 'Rafe' 'Fake Jim' 'Voicemail' 'Nellie and Pam'\n",
      " 'Group: Dunder Mifflin!\\nAndy: Andy Bernard presents: Summer Softball Epic Fails! [Kevin swings bat on screen, fart noise follows] Fail. [repeats] Fail'\n",
      " '[repeats]\\nAndy: Fail'\n",
      " \"[Clark and Pete are shown on screen]\\nVideo Andy: Hey, I'm Pete, puberty is such a drag, man. And I'm Clark! I like to eat toilet paper. [Clark and Pete wave at camera] We fail! [Video shows memorial of Jerry\"\n",
      " 'Phyllis, Kevin & Stanley' 'HCT' 'HCT Member #1' 'HCT Member #2'\n",
      " 'Broccoli Rob' 'Businessman #1' 'Businessman #2' 'Businessman #3'\n",
      " 'HCT Member #3' 'White' 'Boat Guy' 'Walt Jr.' 'Senator Liptop'\n",
      " 'Guys in breakroom' 'Business partner' 'Molly' 'Colin' 'Trevor'\n",
      " 'Julius Irving' 'New Instant Message' 'Suit Store Father'\n",
      " 'Athlead Employee' 'Dennis' 'Wade' 'Suit Store Son'\n",
      " 'Female Athlead Employee' '3rd Athlead Employee' '4th Athlead Employee'\n",
      " 'Co-worker' 'Co-worker #2' 'Mr. Romanko' 'Dance Teacher' 'Ballerinas'\n",
      " 'Parent in Audience' 'Parent in audience #2' 'Parent in audience #1'\n",
      " 'Investor' 'Lonnie' 'Fast Food Worker' 'Drive Thru Customer' 'Brian'\n",
      " 'Cameraman' 'Rolf' 'Gabor' 'Zeke' 'Melvina' 'Wolf' 'Sensei Ira'\n",
      " 'Pam & Dwight' 'Frank' 'Party Announcer' 'Party Guest'\n",
      " 'Party Photographer' 'Party Waiter' 'Nail stylist 1' 'Nail stylist 2'\n",
      " 'Nail manager' 'Shirley' 'Athlead Coworker' 'Roger' 'Alice'\n",
      " \"Oscar's Computer\" 'Jeb' 'German Minister' 'Fannie' 'Henry' 'Esther'\n",
      " 'Aunt Shirley' 'Cameron' 'Promo Voice' 'Ryan Howard' 'Mr. Ruger'\n",
      " 'Promo Announcer' 'Ruger Sister 1' 'Salesmen' 'Ruger Sister 2'\n",
      " 'Angela & Oscar' 'Reporter #1' 'Reporter #2' 'Mrs. Davis' 'Phillip'\n",
      " 'Carla Fern' 'Director' 'Producer' 'Bob Vance, Vance Refrigeration'\n",
      " 'Production Assistant' 'Sensei' 'Philip' 'Check-in guy' 'Casey'\n",
      " 'Mark McGrath' 'Jim & Dwight' 'Camera Crew' 'People in line' 'Santigold'\n",
      " 'Aaron Rodgers' 'Clay Aiken' 'CameraMan' 'Malcolm' 'Casey Dean'\n",
      " 'Bill Hader' 'Seth Mayers' 'Dakota' 'Stripper' 'Jakey' 'Man 1' 'Woman 1'\n",
      " 'Woman 2' 'Man 2' 'Moderator' 'Man 3' 'Woman 3' 'Woman 4' 'Joan'\n",
      " 'Minister' 'Carol Stills']\n"
     ]
    }
   ],
   "source": [
    "import re\n",
    "import pandas as pd\n",
    "import seaborn as sns\n",
    "import matplotlib.pyplot as plt\n",
    "#reading the data from csv file\n",
    "data_fr = pd.read_csv(\"the_office_lines_scripts.csv\")\n",
    "print(data_fr['speaker'].unique())"
   ]
  },
  {
   "cell_type": "markdown",
   "source": [
    "Question 1 :How many characters are there? What are their names?\n",
    ">Meanwhile performing the first unique selection by 'speaker' column in our data set, the amound of 793 unique fields for speakers although in my futher report I have decided to do filter the data frame and consider as characters only speakers with more than 100 lines, in order to avoid cases like 'Angela & Oscar' or some redundant data like in the image:\n",
    "![](../Screenshot 2022-08-01 130254.png)"
   ],
   "metadata": {
    "collapsed": false,
    "pycharm": {
     "name": "#%% md\n"
    }
   }
  },
  {
   "cell_type": "code",
   "execution_count": 6,
   "outputs": [
    {
     "name": "stdout",
     "output_type": "stream",
     "text": [
      "There are 31 regular characters\n",
      "These are their names ['Michael', 'Dwight', 'Jim', 'Pam', 'Andy', 'Kevin', 'Angela', 'Oscar', 'Erin', 'Ryan', 'Darryl', 'Phyllis', 'Kelly', 'Jan', 'Toby', 'Stanley', 'Meredith', 'Holly', 'Nellie', 'Creed', 'Gabe', 'Robert', 'David', 'Karen', 'Clark', 'Roy', 'Charles', 'Pete', 'Jo', 'Deangelo', 'David Wallace']\n"
     ]
    }
   ],
   "source": [
    "lines_per_character = data_fr.value_counts('speaker').to_frame()\n",
    "lines_per_character.columns = ['nr_lines']\n",
    "proper_char = lines_per_character.query(\"nr_lines >= 100\")\n",
    "character_names = list(proper_char.index)\n",
    "print('There are', len(character_names), 'regular characters')\n",
    "print('These are their names', character_names)"
   ],
   "metadata": {
    "collapsed": false,
    "pycharm": {
     "name": "#%%\n"
    }
   }
  },
  {
   "cell_type": "markdown",
   "source": [
    "Question 2:  For each character, find out who has the most lines across all episodes"
   ],
   "metadata": {
    "collapsed": false,
    "pycharm": {
     "name": "#%% md\n"
    }
   }
  },
  {
   "cell_type": "code",
   "execution_count": 7,
   "outputs": [
    {
     "name": "stdout",
     "output_type": "stream",
     "text": [
      "The character with the most line is Michael\n",
      "The amount of line per characters is:                nr_lines\n",
      "speaker                \n",
      "Michael           12140\n",
      "Dwight             7531\n",
      "Jim                6816\n",
      "Pam                5376\n",
      "Andy               3968\n",
      "Kevin              1708\n",
      "Angela             1695\n",
      "Oscar              1490\n",
      "Erin               1469\n",
      "Ryan               1379\n",
      "Darryl             1243\n",
      "Phyllis            1071\n",
      "Kelly               956\n",
      "Jan                 949\n",
      "Toby                936\n",
      "Stanley             761\n",
      "Meredith            645\n",
      "Holly               608\n",
      "Nellie              529\n",
      "Creed               456\n",
      "Gabe                436\n",
      "Robert              430\n",
      "David               382\n",
      "Karen               341\n",
      "Clark               260\n",
      "Roy                 255\n",
      "Charles             221\n",
      "Pete                213\n",
      "Jo                  194\n",
      "Deangelo            171\n",
      "David Wallace       108\n"
     ]
    },
    {
     "data": {
      "text/plain": "<AxesSubplot:>"
     },
     "execution_count": 7,
     "metadata": {},
     "output_type": "execute_result"
    },
    {
     "data": {
      "text/plain": "<Figure size 1440x720 with 1 Axes>",
      "image/png": "[encoded data removed]"
     },
     "metadata": {
      "needs_background": "light"
     },
     "output_type": "display_data"
    }
   ],
   "source": [
    "print('The character with the most line is', proper_char.index[0])\n",
    "print('The amount of line per characters is:', proper_char)\n",
    "data_fr['speaker'].value_counts().head(31).plot(kind='bar', figsize=(20,10))"
   ],
   "metadata": {
    "collapsed": false,
    "pycharm": {
     "name": "#%%\n"
    }
   }
  },
  {
   "cell_type": "markdown",
   "source": [
    "Question 3: What is the average of words per line for each character?"
   ],
   "metadata": {
    "collapsed": false,
    "pycharm": {
     "name": "#%% md\n"
    }
   }
  },
  {
   "cell_type": "code",
   "execution_count": 11,
   "outputs": [
    {
     "name": "stdout",
     "output_type": "stream",
     "text": [
      "      name  average_words_per_line\n",
      "0  Michael               15.034349\n",
      "1   Dwight               12.310317\n",
      "2      Jim                9.971244\n",
      "3      Pam                9.567336\n",
      "4     Andy               12.858367\n"
     ]
    },
    {
     "data": {
      "text/plain": "[Text(0, 0, 'Michael'),\n Text(1, 0, 'Dwight'),\n Text(2, 0, 'Jim'),\n Text(3, 0, 'Pam'),\n Text(4, 0, 'Andy'),\n Text(5, 0, 'Kevin'),\n Text(6, 0, 'Angela'),\n Text(7, 0, 'Oscar'),\n Text(8, 0, 'Erin'),\n Text(9, 0, 'Ryan'),\n Text(10, 0, 'Darryl'),\n Text(11, 0, 'Phyllis'),\n Text(12, 0, 'Kelly'),\n Text(13, 0, 'Jan'),\n Text(14, 0, 'Toby'),\n Text(15, 0, 'Stanley'),\n Text(16, 0, 'Meredith'),\n Text(17, 0, 'Holly'),\n Text(18, 0, 'Nellie'),\n Text(19, 0, 'Creed'),\n Text(20, 0, 'Gabe'),\n Text(21, 0, 'Robert'),\n Text(22, 0, 'David'),\n Text(23, 0, 'Karen'),\n Text(24, 0, 'Clark'),\n Text(25, 0, 'Roy'),\n Text(26, 0, 'Charles'),\n Text(27, 0, 'Pete'),\n Text(28, 0, 'Jo'),\n Text(29, 0, 'Deangelo'),\n Text(30, 0, 'David Wallace')]"
     },
     "execution_count": 11,
     "metadata": {},
     "output_type": "execute_result"
    },
    {
     "data": {
      "text/plain": "<Figure size 1440x720 with 1 Axes>",
      "image/png": "[encoded data removed]"
     },
     "metadata": {
      "needs_background": "light"
     },
     "output_type": "display_data"
    }
   ],
   "source": [
    "pd.options.mode.chained_assignment = None  # default='warn'\n",
    "df = data_fr.loc[data_fr['speaker'].isin(character_names)]\n",
    "# print(df.columns)\n",
    "df['words'] = df.apply(lambda row: len(row['line_text'].split(\" \")), axis=1)\n",
    "#print(df.head())\n",
    "speakers_df = pd.DataFrame({'name':character_names})\n",
    "#print(speakers_df)\n",
    "def calculateAvg(nameOfSpeaker):\n",
    "    tmp = df.loc[df['speaker'] == nameOfSpeaker]\n",
    "    average = tmp[\"words\"].mean()\n",
    "    return average\n",
    "speakers_df['average_words_per_line'] = speakers_df.apply(lambda row: calculateAvg(row['name']),axis=1)\n",
    "print(speakers_df.head())\n",
    "characters=speakers_df['name']\n",
    "fig_dims = (20, 10)\n",
    "ax = plt.subplots(figsize=fig_dims)\n",
    "ax = sns.barplot(data=speakers_df,x=characters, y='average_words_per_line')\n",
    "ax.set_xticklabels(characters, rotation = 90)"
   ],
   "metadata": {
    "collapsed": false,
    "pycharm": {
     "name": "#%%\n"
    }
   }
  },
  {
   "cell_type": "markdown",
   "source": [
    "Question 4: What is the most common word per character?"
   ],
   "metadata": {
    "collapsed": false,
    "pycharm": {
     "name": "#%% md\n"
    }
   }
  },
  {
   "cell_type": "code",
   "execution_count": 104,
   "outputs": [
    {
     "name": "stdout",
     "output_type": "stream",
     "text": [
      "                                           line_text  speaker\n",
      "0  All right Jim. Your quarterlies look very good...  Michael\n",
      "1  Oh, I told you. I couldn't close it. So... Act...      Jim\n",
      "2  Well. I don't know. What? Uh, yeah. Just a fax...      Pam\n",
      "3  [singing] Shall I play for you? Pa rum pump um...   Dwight\n",
      "4  [on her cell phone] Just before lunch. That wo...      Jan\n"
     ]
    }
   ],
   "source": [
    "df_copy = df.copy(True)\n",
    "df_copy.drop(['id', 'season','episode', 'scene', 'deleted','words'], axis=1, inplace=True)\n",
    "df_copy['line_text'] = df_copy.groupby(['speaker'])['line_text'].transform(lambda x : ' '.join(x))\n",
    "df_copy = df_copy.drop_duplicates().reset_index(drop=True)\n",
    "print(df_copy.head())\n"
   ],
   "metadata": {
    "collapsed": false,
    "pycharm": {
     "name": "#%%\n"
    }
   }
  },
  {
   "cell_type": "code",
   "execution_count": 105,
   "outputs": [
    {
     "name": "stdout",
     "output_type": "stream",
     "text": [
      "                                           line_text  speaker  \\\n",
      "0  All right Jim. Your quarterlies look very good...  Michael   \n",
      "1  Oh, I told you. I couldn't close it. So... Act...      Jim   \n",
      "2  Well. I don't know. What? Uh, yeah. Just a fax...      Pam   \n",
      "3  [singing] Shall I play for you? Pa rum pump um...   Dwight   \n",
      "4  [on her cell phone] Just before lunch. That wo...      Jan   \n",
      "\n",
      "                                       list_of_words  \n",
      "0  [all, right, jim, your, quarterlies, look, ver...  \n",
      "1  [oh, i, told, you, i, couldnt, close, it, so, ...  \n",
      "2  [well, i, dont, know, what, uh, yeah, just, a,...  \n",
      "3  [singing, shall, i, play, for, you, pa, rum, p...  \n",
      "4  [on, her, cell, phone, just, before, lunch, th...  \n",
      "   speaker   most_commnon\n",
      "0  Michael    word\n",
      "0    i\n",
      "1      Jim    word\n",
      "0  you\n",
      "2      Pam    word\n",
      "0    i\n",
      "3   Dwight    word\n",
      "0  the\n",
      "4      Jan    word\n",
      "0  you\n"
     ]
    }
   ],
   "source": [
    "df_copy['list_of_words'] = df_copy['line_text'].transform(lambda  x: list(map(lambda it: clean_string(it), x.split(' '))))\n",
    "#print(speakers_df.list_of_words[0])\n",
    "print(df_copy.head())\n",
    "def clean_string(word):\n",
    "    to_lower = word.lower()\n",
    "    regex = re.compile('[^a-zA-Z]')\n",
    "    return regex.sub('',to_lower)\n",
    "\n",
    "def most_common_word(list_of_words):\n",
    "    list_df = pd.DataFrame({'word': list_of_words})\n",
    "    return list_df.mode()\n",
    "df_copy['most_commnon'] = df_copy.apply(lambda row: most_common_word(row['list_of_words']), axis=1)\n",
    "speaker_common_word = df_copy.copy(True)\n",
    "speaker_common_word.drop(['list_of_words', 'line_text'], axis=1, inplace=True)\n",
    "print(speaker_common_word.head())"
   ],
   "metadata": {
    "collapsed": false,
    "pycharm": {
     "name": "#%%\n"
    }
   }
  },
  {
   "cell_type": "markdown",
   "source": [],
   "metadata": {
    "collapsed": false,
    "pycharm": {
     "name": "#%% md\n"
    }
   }
  }
 ],
 "metadata": {
  "kernelspec": {
   "display_name": "Python 3",
   "language": "python",
   "name": "python3"
  },
  "language_info": {
   "codemirror_mode": {
    "name": "ipython",
    "version": 2
   },
   "file_extension": ".py",
   "mimetype": "text/x-python",
   "name": "python",
   "nbconvert_exporter": "python",
   "pygments_lexer": "ipython2",
   "version": "2.7.6"
  }
 },
 "nbformat": 4,
 "nbformat_minor": 0
}